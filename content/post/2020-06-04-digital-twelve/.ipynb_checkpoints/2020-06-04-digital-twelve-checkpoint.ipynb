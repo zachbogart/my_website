{
 "cells": [
  {
   "cell_type": "markdown",
   "metadata": {},
   "source": [
    "---\n",
    "title: \"Twelve Clock List\"\n",
    "subtitle: \"Documenting the options for a clock game\"\n",
    "date: 2020-06-04\n",
    "categories: \n",
    "  - Python\n",
    "tags: \n",
    "  - pandas\n",
    "slug: \"twelve-clock\"\n",
    "image:\n",
    "  caption: ''\n",
    "  focal_point: ''\n",
    "  preview_only: yes\n",
    "links:\n",
    "  donate_button:\n",
    "    icon: seedling\n",
    "    icon_pack: fas\n",
    "    name: Ways to Support\n",
    "    url: /support/\n",
    "  jupyter_button:\n",
    "    icon: external-link-alt\n",
    "    icon_pack: fas\n",
    "    name: Jupyter Notebook\n",
    "    url: https://github.com/zachbogart/my_website/blob/master/content/post/2020-06-04-digital-twelve/2020-06-04-digital-twelve.ipynb\n",
    "            \n",
    "---"
   ]
  },
  {
   "cell_type": "markdown",
   "metadata": {},
   "source": [
    "<!-- Icon Image: Small -->\n",
    "<img src=\"featured.png\" width=\"100\"/> "
   ]
  },
  {
   "cell_type": "markdown",
   "metadata": {},
   "source": [
    "## ...What?\n",
    "Whenever I see a digital clock, I do a little math in my head. I try to take the numbers and, using only addition, subtraction, multiplication and division, get them to come out to twelve. I thought I'd try to get an exhaustive list of times that this trick applies to. Let's figure it out!"
   ]
  },
  {
   "cell_type": "code",
   "execution_count": 182,
   "metadata": {},
   "outputs": [],
   "source": [
    "import re\n",
    "import pandas as pd\n",
    "\n",
    "import seaborn as sns\n",
    "import matplotlib.pyplot as plt"
   ]
  },
  {
   "cell_type": "markdown",
   "metadata": {},
   "source": [
    "## Get with the times\n",
    "First we need to get a list of the times. I'm going to work with strings. Let's go through some numbers and rule out invalid ones by places."
   ]
  },
  {
   "cell_type": "code",
   "execution_count": 10,
   "metadata": {},
   "outputs": [],
   "source": [
    "valid = []\n",
    "for x in range(100, 1260):\n",
    "    num = ''\n",
    "    num += str(x)\n",
    "    \n",
    "    if len(num) == 3:\n",
    "        if int(num[0]) <= 9 and int(num[1]) <= 5:\n",
    "            valid.append(num)\n",
    "    if len(num) == 4:\n",
    "        if int(num[0]) <= 1 and int(num[1]) <= 2 and int(num[2]) <= 5:\n",
    "            valid.append(num)"
   ]
  },
  {
   "cell_type": "markdown",
   "metadata": {},
   "source": [
    "Cool. We can check that we have 720, which is half of all times since they all repeat once. Now we can go about making possible math expressions.  "
   ]
  },
  {
   "cell_type": "code",
   "execution_count": 12,
   "metadata": {},
   "outputs": [
    {
     "data": {
      "text/plain": [
       "720"
      ]
     },
     "execution_count": 12,
     "metadata": {},
     "output_type": "execute_result"
    }
   ],
   "source": [
    "len(valid)"
   ]
  },
  {
   "cell_type": "code",
   "execution_count": 13,
   "metadata": {},
   "outputs": [
    {
     "data": {
      "text/plain": [
       "['100', '101', '102', '103']"
      ]
     },
     "execution_count": 13,
     "metadata": {},
     "output_type": "execute_result"
    }
   ],
   "source": [
    "valid[:4]"
   ]
  },
  {
   "cell_type": "markdown",
   "metadata": {},
   "source": [
    "## Prep the times\n",
    "To do this, I'm going to put together strings of math expressions for all permutations of the numbers, then evaluate them and see which ones work. Certainly brute force, but it'll work. First, I make a dictionary of all permutations of the numbers for each time."
   ]
  },
  {
   "cell_type": "code",
   "execution_count": 67,
   "metadata": {},
   "outputs": [],
   "source": [
    "# moded from https://www.geeksforgeeks.org/python-permutation-given-string-using-inbuilt-function/\n",
    "from itertools import permutations \n",
    "\n",
    "def allPermutations(str): \n",
    "    \n",
    "    perm_array = []\n",
    "\n",
    "    # Get all permutations of string 'ABC' \n",
    "    permList = permutations(str) \n",
    "\n",
    "    # print all permutations \n",
    "    for perm in list(permList): \n",
    "        result = ''.join(perm)\n",
    "        perm_array.append(result)\n",
    "    \n",
    "    return list(set(perm_array))\n",
    "        "
   ]
  },
  {
   "cell_type": "code",
   "execution_count": 73,
   "metadata": {},
   "outputs": [],
   "source": [
    "time_dict = {}\n",
    "\n",
    "for time in valid:\n",
    "    time_dict[time] = allPermutations(time)"
   ]
  },
  {
   "cell_type": "code",
   "execution_count": 113,
   "metadata": {},
   "outputs": [
    {
     "data": {
      "text/plain": [
       "['795', '957', '579', '597', '759', '975']"
      ]
     },
     "execution_count": 113,
     "metadata": {},
     "output_type": "execute_result"
    }
   ],
   "source": [
    "time_dict['957']"
   ]
  },
  {
   "cell_type": "markdown",
   "metadata": {},
   "source": [
    "Now, I go and add in all possible combinations of operators (`+, -, *, /`) in between the numbers. I also add in parens since `eval` follows PEMDAS and we want to avoid that in many cases."
   ]
  },
  {
   "cell_type": "code",
   "execution_count": 99,
   "metadata": {},
   "outputs": [],
   "source": [
    "equations = {}\n",
    "\n",
    "for time, perms in time_dict.items():\n",
    "    eq = ''\n",
    "    ops = '+-*/'\n",
    "    if len(time) == 3:\n",
    "        equations[time] = []\n",
    "        for perm in perms:\n",
    "            for a in ops:\n",
    "                for b in ops:\n",
    "                    eq = f\"{perm[0]}{a}{perm[1]}{b}{perm[2]}\"\n",
    "                    eq = re.sub(r'([0-9])', r'\\1)', eq)\n",
    "                    eq = '(((' + eq\n",
    "                    equations[time].append(eq)\n",
    "    if len(time) == 4:\n",
    "        equations[time] = []\n",
    "        for perm in perms:\n",
    "            for a in ops:\n",
    "                for b in ops:\n",
    "                    for c in ops:\n",
    "                        eq = f\"{perm[0]}{a}{perm[1]}{b}{perm[2]}{c}{perm[3]}\"\n",
    "                        eq = re.sub(r'([0-9])', r'\\1)', eq)\n",
    "                        eq = '((((' + eq\n",
    "                        equations[time].append(eq)\n",
    "                            "
   ]
  },
  {
   "cell_type": "code",
   "execution_count": 128,
   "metadata": {},
   "outputs": [
    {
     "data": {
      "text/plain": [
       "['(((0)+0)+1)',\n",
       " '(((0)+0)-1)',\n",
       " '(((0)+0)*1)',\n",
       " '(((0)+0)/1)',\n",
       " '(((0)-0)+1)',\n",
       " '(((0)-0)-1)',\n",
       " '(((0)-0)*1)',\n",
       " '(((0)-0)/1)',\n",
       " '(((0)*0)+1)',\n",
       " '(((0)*0)-1)']"
      ]
     },
     "execution_count": 128,
     "metadata": {},
     "output_type": "execute_result"
    }
   ],
   "source": [
    "equations['100'][:10]"
   ]
  },
  {
   "cell_type": "markdown",
   "metadata": {},
   "source": [
    "## Look at the time"
   ]
  },
  {
   "cell_type": "markdown",
   "metadata": {},
   "source": [
    "Cool. Now that we have a bunch of expressions, let's evaluate them and see what we get."
   ]
  },
  {
   "cell_type": "code",
   "execution_count": 122,
   "metadata": {},
   "outputs": [],
   "source": [
    "they_work = {}\n",
    "\n",
    "for time, eq_list in equations.items():\n",
    "    for eq in eq_list:\n",
    "        try:\n",
    "            result = eval(eq)\n",
    "        except ZeroDivisionError:\n",
    "            continue\n",
    "        if result == 12 and time not in they_work.keys():\n",
    "            they_work[time] = eq"
   ]
  },
  {
   "cell_type": "code",
   "execution_count": 123,
   "metadata": {},
   "outputs": [
    {
     "data": {
      "text/plain": [
       "{'116': '(((1)+1)*6)',\n",
       " '124': '(((2)+1)*4)',\n",
       " '125': '(((5)+1)*2)',\n",
       " '126': '(((6)*1)*2)',\n",
       " '127': '(((7)-1)*2)',\n",
       " '129': '(((9)+1)+2)',\n",
       " '133': '(((1)+3)*3)',\n",
       " '134': '(((1)*4)*3)',\n",
       " '135': '(((5)-1)*3)',\n",
       " '136': '(((3)-1)*6)',\n",
       " '138': '(((1)+3)+8)',\n",
       " '139': '(((3)+9)*1)',\n",
       " '142': '(((2)+1)*4)',\n",
       " '143': '(((1)*4)*3)',\n",
       " '144': '(((4)-1)*4)',\n",
       " '147': '(((7)+4)+1)',\n",
       " '148': '(((8)+4)*1)',\n",
       " '149': '(((9)+4)-1)',\n",
       " '152': '(((5)+1)*2)',\n",
       " '153': '(((5)-1)*3)',\n",
       " '156': '(((6)+1)+5)',\n",
       " '157': '(((1)*7)+5)',\n",
       " '158': '(((5)-1)+8)',\n",
       " '206': '(((2)+0)*6)',\n",
       " '214': '(((2)+1)*4)',\n",
       " '215': '(((5)+1)*2)',\n",
       " '216': '(((6)*1)*2)',\n",
       " '217': '(((7)-1)*2)',\n",
       " '219': '(((9)+1)+2)',\n",
       " '223': '(((3)*2)*2)',\n",
       " '224': '(((2)+4)*2)',\n",
       " '225': '(((5)*2)+2)',\n",
       " '227': '(((7)*2)-2)',\n",
       " '228': '(((2)+2)+8)',\n",
       " '232': '(((3)*2)*2)',\n",
       " '233': '(((3)+3)*2)',\n",
       " '236': '(((2)*3)+6)',\n",
       " '237': '(((2)+3)+7)',\n",
       " '238': '(((3)/2)*8)',\n",
       " '239': '(((9)-3)*2)',\n",
       " '241': '(((2)+1)*4)',\n",
       " '242': '(((2)+4)*2)',\n",
       " '244': '(((4)*2)+4)',\n",
       " '245': '(((5)-2)*4)',\n",
       " '246': '(((4)+6)+2)',\n",
       " '248': '(((2)*8)-4)',\n",
       " '251': '(((5)+1)*2)',\n",
       " '252': '(((5)*2)+2)',\n",
       " '254': '(((5)-2)*4)',\n",
       " '255': '(((2)+5)+5)',\n",
       " '259': '(((5)-2)+9)',\n",
       " '304': '(((0)+4)*3)',\n",
       " '309': '(((0)+3)+9)',\n",
       " '313': '(((1)+3)*3)',\n",
       " '314': '(((1)*4)*3)',\n",
       " '315': '(((5)-1)*3)',\n",
       " '316': '(((3)-1)*6)',\n",
       " '318': '(((1)+3)+8)',\n",
       " '319': '(((3)+9)*1)',\n",
       " '322': '(((2)+2)*3)',\n",
       " '323': '(((3)+3)*2)',\n",
       " '326': '(((2)*3)+6)',\n",
       " '327': '(((2)+3)+7)',\n",
       " '328': '(((3)/2)*8)',\n",
       " '329': '(((9)-3)*2)',\n",
       " '331': '(((1)+3)*3)',\n",
       " '332': '(((3)+3)*2)',\n",
       " '333': '(((3)*3)+3)',\n",
       " '335': '(((5)*3)-3)',\n",
       " '336': '(((3)+6)+3)',\n",
       " '337': '(((7)-3)*3)',\n",
       " '340': '(((0)+4)*3)',\n",
       " '341': '(((1)*4)*3)',\n",
       " '345': '(((5)+3)+4)',\n",
       " '346': '(((6)-3)*4)',\n",
       " '348': '(((8)-4)*3)',\n",
       " '349': '(((9)/3)*4)',\n",
       " '351': '(((5)-1)*3)',\n",
       " '353': '(((5)*3)-3)',\n",
       " '354': '(((5)+3)+4)',\n",
       " '356': '(((5)-3)*6)',\n",
       " '359': '(((9)-5)*3)',\n",
       " '403': '(((0)+4)*3)',\n",
       " '408': '(((8)+4)+0)',\n",
       " '412': '(((2)+1)*4)',\n",
       " '413': '(((1)*4)*3)',\n",
       " '414': '(((4)-1)*4)',\n",
       " '417': '(((7)+4)+1)',\n",
       " '418': '(((8)+4)*1)',\n",
       " '419': '(((9)+4)-1)',\n",
       " '421': '(((2)+1)*4)',\n",
       " '422': '(((2)+4)*2)',\n",
       " '424': '(((4)*2)+4)',\n",
       " '425': '(((5)-2)*4)',\n",
       " '426': '(((2)+6)+4)',\n",
       " '428': '(((2)*8)-4)',\n",
       " '430': '(((0)+4)*3)',\n",
       " '431': '(((1)*4)*3)',\n",
       " '435': '(((5)+3)+4)',\n",
       " '436': '(((6)-3)*4)',\n",
       " '438': '(((8)-4)*3)',\n",
       " '439': '(((9)/3)*4)',\n",
       " '441': '(((4)-1)*4)',\n",
       " '442': '(((2)*4)+4)',\n",
       " '444': '(((4)+4)+4)',\n",
       " '447': '(((7)-4)*4)',\n",
       " '452': '(((5)-2)*4)',\n",
       " '453': '(((5)+3)+4)',\n",
       " '458': '(((8)-5)*4)',\n",
       " '507': '(((5)+7)+0)',\n",
       " '512': '(((5)+1)*2)',\n",
       " '513': '(((5)-1)*3)',\n",
       " '516': '(((5)+1)+6)',\n",
       " '517': '(((1)*7)+5)',\n",
       " '518': '(((5)-1)+8)',\n",
       " '521': '(((5)+1)*2)',\n",
       " '522': '(((5)*2)+2)',\n",
       " '524': '(((5)-2)*4)',\n",
       " '525': '(((2)+5)+5)',\n",
       " '529': '(((5)-2)+9)',\n",
       " '531': '(((5)-1)*3)',\n",
       " '533': '(((5)*3)-3)',\n",
       " '534': '(((5)+3)+4)',\n",
       " '536': '(((5)-3)*6)',\n",
       " '539': '(((9)-5)*3)',\n",
       " '542': '(((5)-2)*4)',\n",
       " '543': '(((5)+3)+4)',\n",
       " '548': '(((8)-5)*4)',\n",
       " '552': '(((2)+5)+5)',\n",
       " '602': '(((2)+0)*6)',\n",
       " '606': '(((6)+6)+0)',\n",
       " '611': '(((1)+1)*6)',\n",
       " '612': '(((6)*1)*2)',\n",
       " '613': '(((3)-1)*6)',\n",
       " '615': '(((6)+1)+5)',\n",
       " '616': '(((1)*6)+6)',\n",
       " '617': '(((6)+7)-1)',\n",
       " '620': '(((2)+0)*6)',\n",
       " '621': '(((6)*1)*2)',\n",
       " '623': '(((2)*3)+6)',\n",
       " '624': '(((4)+6)+2)',\n",
       " '628': '(((6)+8)-2)',\n",
       " '629': '(((9)*2)-6)',\n",
       " '631': '(((3)-1)*6)',\n",
       " '632': '(((2)*3)+6)',\n",
       " '633': '(((3)+6)+3)',\n",
       " '634': '(((6)-3)*4)',\n",
       " '635': '(((5)-3)*6)',\n",
       " '636': '(((3)*6)-6)',\n",
       " '639': '(((9)-3)+6)',\n",
       " '642': '(((2)+6)+4)',\n",
       " '643': '(((6)-3)*4)',\n",
       " '646': '(((6)-4)*6)',\n",
       " '648': '(((6)*8)/4)',\n",
       " '649': '(((9)-6)*4)',\n",
       " '651': '(((6)+1)+5)',\n",
       " '653': '(((5)-3)*6)',\n",
       " '657': '(((7)-5)*6)',\n",
       " '705': '(((0)+5)+7)',\n",
       " '712': '(((7)-1)*2)',\n",
       " '714': '(((7)+4)+1)',\n",
       " '715': '(((1)*7)+5)',\n",
       " '716': '(((6)+7)-1)',\n",
       " '721': '(((7)-1)*2)',\n",
       " '722': '(((2)*7)-2)',\n",
       " '723': '(((2)+3)+7)',\n",
       " '727': '(((7)+7)-2)',\n",
       " '732': '(((2)+3)+7)',\n",
       " '733': '(((7)-3)*3)',\n",
       " '738': '(((7)-3)+8)',\n",
       " '739': '(((7)*3)-9)',\n",
       " '741': '(((7)+4)+1)',\n",
       " '744': '(((7)-4)*4)',\n",
       " '749': '(((9)-4)+7)',\n",
       " '750': '(((0)+5)+7)',\n",
       " '751': '(((1)*7)+5)',\n",
       " '756': '(((7)-5)*6)',\n",
       " '804': '(((8)+4)+0)',\n",
       " '813': '(((1)+3)+8)',\n",
       " '814': '(((8)+4)*1)',\n",
       " '815': '(((5)-1)+8)',\n",
       " '822': '(((8)+2)+2)',\n",
       " '823': '(((3)/2)*8)',\n",
       " '824': '(((2)*8)-4)',\n",
       " '826': '(((6)+8)-2)',\n",
       " '828': '(((8)/2)+8)',\n",
       " '831': '(((1)+3)+8)',\n",
       " '832': '(((3)/2)*8)',\n",
       " '834': '(((8)-4)*3)',\n",
       " '837': '(((7)-3)+8)',\n",
       " '840': '(((8)+4)+0)',\n",
       " '841': '(((8)+4)*1)',\n",
       " '842': '(((2)*8)-4)',\n",
       " '843': '(((8)-4)*3)',\n",
       " '845': '(((8)-5)*4)',\n",
       " '846': '(((6)*8)/4)',\n",
       " '848': '(((8)-4)+8)',\n",
       " '851': '(((5)-1)+8)',\n",
       " '854': '(((8)-5)*4)',\n",
       " '859': '(((9)+8)-5)',\n",
       " '903': '(((0)+3)+9)',\n",
       " '912': '(((9)+1)+2)',\n",
       " '913': '(((3)+9)*1)',\n",
       " '914': '(((9)+4)-1)',\n",
       " '921': '(((9)+1)+2)',\n",
       " '923': '(((9)-3)*2)',\n",
       " '925': '(((5)-2)+9)',\n",
       " '926': '(((9)*2)-6)',\n",
       " '930': '(((0)+3)+9)',\n",
       " '931': '(((3)+9)*1)',\n",
       " '932': '(((9)-3)*2)',\n",
       " '934': '(((9)/3)*4)',\n",
       " '935': '(((9)-5)*3)',\n",
       " '936': '(((9)-3)+6)',\n",
       " '937': '(((7)*3)-9)',\n",
       " '939': '(((9)/3)+9)',\n",
       " '941': '(((9)+4)-1)',\n",
       " '943': '(((9)/3)*4)',\n",
       " '946': '(((9)-6)*4)',\n",
       " '947': '(((9)-4)+7)',\n",
       " '952': '(((5)-2)+9)',\n",
       " '953': '(((9)-5)*3)',\n",
       " '958': '(((9)+8)-5)',\n",
       " '1016': '((((1)+1)+0)*6)',\n",
       " '1024': '((((1)+2)+0)*4)',\n",
       " '1025': '((((5)+0)+1)*2)',\n",
       " '1026': '((((1)*2)*6)+0)',\n",
       " '1027': '((((7)+0)-1)*2)',\n",
       " '1029': '((((1)+9)+0)+2)',\n",
       " '1033': '((((3)+1)+0)*3)',\n",
       " '1034': '((((1)*3)*4)+0)',\n",
       " '1035': '((((5)+0)-1)*3)',\n",
       " '1036': '((((3)-1)+0)*6)',\n",
       " '1038': '((((1)+8)+0)+3)',\n",
       " '1039': '((((0)+9)*1)+3)',\n",
       " '1042': '((((1)+2)+0)*4)',\n",
       " '1043': '((((1)*3)*4)+0)',\n",
       " '1044': '((((4)-1)+0)*4)',\n",
       " '1047': '((((0)+1)+4)+7)',\n",
       " '1048': '((((8)*1)+4)+0)',\n",
       " '1049': '((((4)+0)+9)-1)',\n",
       " '1052': '((((5)+0)+1)*2)',\n",
       " '1053': '((((5)+0)-1)*3)',\n",
       " '1056': '((((6)+0)+5)+1)',\n",
       " '1057': '((((7)+0)+5)*1)',\n",
       " '1058': '((((8)+0)+5)-1)',\n",
       " '1106': '((((1)+1)+0)*6)',\n",
       " '1114': '((((1)+1)+1)*4)',\n",
       " '1116': '((((1)+1)*6)*1)',\n",
       " '1119': '((((9)+1)+1)+1)',\n",
       " '1123': '((((2)+1)+1)*3)',\n",
       " '1124': '((((4)+1)+1)*2)',\n",
       " '1125': '((((2)*5)+1)+1)',\n",
       " '1126': '((((2)*1)*6)*1)',\n",
       " '1127': '((((7)-1)*2)*1)',\n",
       " '1128': '((((2)+1)+1)+8)',\n",
       " '1129': '((((1)+2)*1)+9)',\n",
       " '1132': '((((2)+1)+1)*3)',\n",
       " '1133': '((((1)*1)+3)*3)',\n",
       " '1134': '((((3)*1)*4)*1)',\n",
       " '1135': '((((5)-1)*3)*1)',\n",
       " '1136': '((((1)*3)-1)*6)',\n",
       " '1137': '((((3)+1)+1)+7)',\n",
       " '1138': '((((3)+1)+8)*1)',\n",
       " '1139': '((((9)+3)+1)-1)',\n",
       " '1141': '((((1)+1)+1)*4)',\n",
       " '1142': '((((4)+1)+1)*2)',\n",
       " '1143': '((((3)*1)*4)*1)',\n",
       " '1144': '((((4)-1)*4)*1)',\n",
       " '1145': '((((5)-1)-1)*4)',\n",
       " '1146': '((((1)+4)+1)+6)',\n",
       " '1147': '((((1)+7)+4)*1)',\n",
       " '1148': '((((1)+8)+4)-1)',\n",
       " '1149': '((((4)+9)-1)*1)',\n",
       " '1152': '((((2)*5)+1)+1)',\n",
       " '1153': '((((5)-1)*3)*1)',\n",
       " '1154': '((((5)-1)-1)*4)',\n",
       " '1155': '((((5)+1)+5)+1)',\n",
       " '1156': '((((1)+6)+5)*1)',\n",
       " '1157': '((((7)+1)+5)-1)',\n",
       " '1158': '((((5)-1)+8)*1)',\n",
       " '1159': '((((5)-1)+9)-1)',\n",
       " '1204': '((((1)+2)+0)*4)',\n",
       " '1205': '((((5)+0)+1)*2)',\n",
       " '1206': '((((1)*2)*6)+0)',\n",
       " '1207': '((((7)+0)-1)*2)',\n",
       " '1209': '((((1)+9)+0)+2)',\n",
       " '1213': '((((2)+1)+1)*3)',\n",
       " '1214': '((((4)+1)+1)*2)',\n",
       " '1215': '((((2)*5)+1)+1)',\n",
       " '1216': '((((2)*1)*6)*1)',\n",
       " '1217': '((((7)-1)*2)*1)',\n",
       " '1218': '((((2)+1)+1)+8)',\n",
       " '1219': '((((1)+2)*1)+9)',\n",
       " '1222': '((((1)+2)*2)*2)',\n",
       " '1223': '((((2)+2)*3)*1)',\n",
       " '1224': '((((1)+4)*2)+2)',\n",
       " '1225': '((((2)+5)-1)*2)',\n",
       " '1226': '((((2)/2)+1)*6)',\n",
       " '1227': '((((1)+2)+7)+2)',\n",
       " '1228': '((((2)+1)*8)/2)',\n",
       " '1229': '((((2)+9)-1)+2)',\n",
       " '1231': '((((1)+1)*3)*2)',\n",
       " '1232': '((((2)+2)*3)*1)',\n",
       " '1233': '((((3)-1)*3)*2)',\n",
       " '1234': '((((3)+1)*2)+4)',\n",
       " '1235': '((((2)*5)+3)-1)',\n",
       " '1236': '((((6)+3)+2)+1)',\n",
       " '1237': '((((1)*3)+2)+7)',\n",
       " '1238': '((((2)+3)-1)+8)',\n",
       " '1239': '((((9)-1)*3)/2)',\n",
       " '1240': '((((1)+2)+0)*4)',\n",
       " '1241': '((((4)+1)+1)*2)',\n",
       " '1242': '((((1)+4)*2)+2)',\n",
       " '1243': '((((3)+1)*2)+4)',\n",
       " '1244': '((((2)*4)+4)*1)',\n",
       " '1245': '((((5)+1)+4)+2)',\n",
       " '1246': '((((1)*6)+2)+4)',\n",
       " '1247': '((((4)+2)+7)-1)',\n",
       " '1248': '((((8)*1)*2)-4)',\n",
       " '1249': '((((4)-2)+9)+1)',\n",
       " '1250': '((((5)+0)+1)*2)',\n",
       " '1251': '((((2)*5)+1)+1)',\n",
       " '1252': '((((2)+5)-1)*2)',\n",
       " '1253': '((((2)*5)+3)-1)',\n",
       " '1254': '((((5)+1)+4)+2)',\n",
       " '1255': '((((1)*5)+2)+5)',\n",
       " '1256': '((((5)+2)+6)-1)',\n",
       " '1257': '((((2)-1)*7)+5)',\n",
       " '1258': '((((8)+1)-2)+5)',\n",
       " '1259': '((((2)*9)-5)-1)'}"
      ]
     },
     "execution_count": 123,
     "metadata": {},
     "output_type": "execute_result"
    }
   ],
   "source": [
    "they_work"
   ]
  },
  {
   "cell_type": "code",
   "execution_count": 133,
   "metadata": {},
   "outputs": [
    {
     "name": "stdout",
     "output_type": "stream",
     "text": [
      "So this trick works 45.97% of the time\n"
     ]
    }
   ],
   "source": [
    "print(f\"So this trick works {len(they_work.keys()) / len(valid) * 100:.2f}% of the time\")"
   ]
  },
  {
   "cell_type": "markdown",
   "metadata": {},
   "source": [
    "## Well...there ya go\n",
    "There are a bunch that are easy to spot. Was interesting to see ones where division is used. "
   ]
  },
  {
   "cell_type": "code",
   "execution_count": 135,
   "metadata": {},
   "outputs": [
    {
     "data": {
      "text/plain": [
       "['(((3)/2)*8)',\n",
       " '(((3)/2)*8)',\n",
       " '(((9)/3)*4)',\n",
       " '(((9)/3)*4)',\n",
       " '(((6)*8)/4)',\n",
       " '(((3)/2)*8)',\n",
       " '(((8)/2)+8)',\n",
       " '(((3)/2)*8)',\n",
       " '(((6)*8)/4)',\n",
       " '(((9)/3)*4)',\n",
       " '(((9)/3)+9)',\n",
       " '(((9)/3)*4)',\n",
       " '((((2)/2)+1)*6)',\n",
       " '((((2)+1)*8)/2)',\n",
       " '((((9)-1)*3)/2)']"
      ]
     },
     "execution_count": 135,
     "metadata": {},
     "output_type": "execute_result"
    }
   ],
   "source": [
    "[x for x in they_work.values() if '/' in x]"
   ]
  },
  {
   "cell_type": "markdown",
   "metadata": {},
   "source": [
    "Maybe you'll give it a try next time you spot a digital clock..."
   ]
  },
  {
   "cell_type": "markdown",
   "metadata": {},
   "source": [
    "## DataFrame of the results"
   ]
  },
  {
   "cell_type": "code",
   "execution_count": 170,
   "metadata": {},
   "outputs": [],
   "source": [
    "df = pd.DataFrame(valid)\n",
    "df.rename(columns={0: 'raw'}, inplace=True)"
   ]
  },
  {
   "cell_type": "code",
   "execution_count": 171,
   "metadata": {},
   "outputs": [],
   "source": [
    "df['raw_temp'] = df['raw'].apply(lambda x: '0' + x if len(x) == 3 else x)"
   ]
  },
  {
   "cell_type": "code",
   "execution_count": 172,
   "metadata": {},
   "outputs": [],
   "source": [
    "df['time'] = df['raw_temp'].apply(lambda x: pd.to_datetime(x, format='%H%M'))"
   ]
  },
  {
   "cell_type": "code",
   "execution_count": 180,
   "metadata": {},
   "outputs": [
    {
     "data": {
      "text/html": [
       "<div>\n",
       "<style scoped>\n",
       "    .dataframe tbody tr th:only-of-type {\n",
       "        vertical-align: middle;\n",
       "    }\n",
       "\n",
       "    .dataframe tbody tr th {\n",
       "        vertical-align: top;\n",
       "    }\n",
       "\n",
       "    .dataframe thead th {\n",
       "        text-align: right;\n",
       "    }\n",
       "</style>\n",
       "<table border=\"1\" class=\"dataframe\">\n",
       "  <thead>\n",
       "    <tr style=\"text-align: right;\">\n",
       "      <th></th>\n",
       "      <th>raw</th>\n",
       "      <th>raw_temp</th>\n",
       "      <th>time</th>\n",
       "      <th>twelve</th>\n",
       "    </tr>\n",
       "  </thead>\n",
       "  <tbody>\n",
       "    <tr>\n",
       "      <th>0</th>\n",
       "      <td>100</td>\n",
       "      <td>0100</td>\n",
       "      <td>1900-01-01 01:00:00</td>\n",
       "      <td>False</td>\n",
       "    </tr>\n",
       "    <tr>\n",
       "      <th>1</th>\n",
       "      <td>101</td>\n",
       "      <td>0101</td>\n",
       "      <td>1900-01-01 01:01:00</td>\n",
       "      <td>False</td>\n",
       "    </tr>\n",
       "    <tr>\n",
       "      <th>2</th>\n",
       "      <td>102</td>\n",
       "      <td>0102</td>\n",
       "      <td>1900-01-01 01:02:00</td>\n",
       "      <td>False</td>\n",
       "    </tr>\n",
       "    <tr>\n",
       "      <th>3</th>\n",
       "      <td>103</td>\n",
       "      <td>0103</td>\n",
       "      <td>1900-01-01 01:03:00</td>\n",
       "      <td>False</td>\n",
       "    </tr>\n",
       "    <tr>\n",
       "      <th>4</th>\n",
       "      <td>104</td>\n",
       "      <td>0104</td>\n",
       "      <td>1900-01-01 01:04:00</td>\n",
       "      <td>False</td>\n",
       "    </tr>\n",
       "  </tbody>\n",
       "</table>\n",
       "</div>"
      ],
      "text/plain": [
       "   raw raw_temp                time  twelve\n",
       "0  100     0100 1900-01-01 01:00:00   False\n",
       "1  101     0101 1900-01-01 01:01:00   False\n",
       "2  102     0102 1900-01-01 01:02:00   False\n",
       "3  103     0103 1900-01-01 01:03:00   False\n",
       "4  104     0104 1900-01-01 01:04:00   False"
      ]
     },
     "execution_count": 180,
     "metadata": {},
     "output_type": "execute_result"
    }
   ],
   "source": [
    "df.head()"
   ]
  },
  {
   "cell_type": "code",
   "execution_count": 176,
   "metadata": {},
   "outputs": [],
   "source": [
    "valid_times = list(they_work.keys())"
   ]
  },
  {
   "cell_type": "code",
   "execution_count": 178,
   "metadata": {},
   "outputs": [],
   "source": [
    "df['twelve'] = df['raw'].isin(valid_times)"
   ]
  },
  {
   "cell_type": "code",
   "execution_count": 181,
   "metadata": {},
   "outputs": [
    {
     "data": {
      "text/html": [
       "<div>\n",
       "<style scoped>\n",
       "    .dataframe tbody tr th:only-of-type {\n",
       "        vertical-align: middle;\n",
       "    }\n",
       "\n",
       "    .dataframe tbody tr th {\n",
       "        vertical-align: top;\n",
       "    }\n",
       "\n",
       "    .dataframe thead th {\n",
       "        text-align: right;\n",
       "    }\n",
       "</style>\n",
       "<table border=\"1\" class=\"dataframe\">\n",
       "  <thead>\n",
       "    <tr style=\"text-align: right;\">\n",
       "      <th></th>\n",
       "      <th>raw</th>\n",
       "      <th>raw_temp</th>\n",
       "      <th>time</th>\n",
       "      <th>twelve</th>\n",
       "    </tr>\n",
       "  </thead>\n",
       "  <tbody>\n",
       "    <tr>\n",
       "      <th>0</th>\n",
       "      <td>100</td>\n",
       "      <td>0100</td>\n",
       "      <td>1900-01-01 01:00:00</td>\n",
       "      <td>False</td>\n",
       "    </tr>\n",
       "    <tr>\n",
       "      <th>1</th>\n",
       "      <td>101</td>\n",
       "      <td>0101</td>\n",
       "      <td>1900-01-01 01:01:00</td>\n",
       "      <td>False</td>\n",
       "    </tr>\n",
       "    <tr>\n",
       "      <th>2</th>\n",
       "      <td>102</td>\n",
       "      <td>0102</td>\n",
       "      <td>1900-01-01 01:02:00</td>\n",
       "      <td>False</td>\n",
       "    </tr>\n",
       "    <tr>\n",
       "      <th>3</th>\n",
       "      <td>103</td>\n",
       "      <td>0103</td>\n",
       "      <td>1900-01-01 01:03:00</td>\n",
       "      <td>False</td>\n",
       "    </tr>\n",
       "    <tr>\n",
       "      <th>4</th>\n",
       "      <td>104</td>\n",
       "      <td>0104</td>\n",
       "      <td>1900-01-01 01:04:00</td>\n",
       "      <td>False</td>\n",
       "    </tr>\n",
       "  </tbody>\n",
       "</table>\n",
       "</div>"
      ],
      "text/plain": [
       "   raw raw_temp                time  twelve\n",
       "0  100     0100 1900-01-01 01:00:00   False\n",
       "1  101     0101 1900-01-01 01:01:00   False\n",
       "2  102     0102 1900-01-01 01:02:00   False\n",
       "3  103     0103 1900-01-01 01:03:00   False\n",
       "4  104     0104 1900-01-01 01:04:00   False"
      ]
     },
     "execution_count": 181,
     "metadata": {},
     "output_type": "execute_result"
    }
   ],
   "source": [
    "df.head()"
   ]
  },
  {
   "cell_type": "markdown",
   "metadata": {},
   "source": [
    "### Image Credit\n",
    "[Twelve](https://thenounproject.com/search/?q=twelve&creator=4129988&i=2184535) by Zach Bogart from [the Noun Project](https://thenounproject.com/)"
   ]
  }
 ],
 "metadata": {
  "kernelspec": {
   "display_name": "Python 3",
   "language": "python",
   "name": "python3"
  },
  "language_info": {
   "codemirror_mode": {
    "name": "ipython",
    "version": 3
   },
   "file_extension": ".py",
   "mimetype": "text/x-python",
   "name": "python",
   "nbconvert_exporter": "python",
   "pygments_lexer": "ipython3",
   "version": "3.7.2"
  }
 },
 "nbformat": 4,
 "nbformat_minor": 2
}
