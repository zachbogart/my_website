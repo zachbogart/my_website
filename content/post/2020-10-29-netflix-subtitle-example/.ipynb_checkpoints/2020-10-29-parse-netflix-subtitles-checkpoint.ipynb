{
 "cells": [
  {
   "cell_type": "markdown",
   "metadata": {},
   "source": [
    "---\n",
    "title: \"Scraping Netflix Subtitle Data: Small Example\"  \n",
    "subtitle: Getting at Netflix Subtitles and Exploring a Dave Chappelle joke setup\n",
    "summary: Getting my hands on some of that Stove Top stuffing\n",
    "date: 2020-10-29  \n",
    "categories:  \n",
    "  - Python  \n",
    "tags:  \n",
    "  - pandas  \n",
    "  - beautifulsoup\n",
    "slug: \"netflix-subtitle-small-example\"  \n",
    "image:\n",
    "  caption: ''\n",
    "  focal_point: ''\n",
    "  preview_only: yes\n",
    "links:\n",
    "  donate_button:\n",
    "    icon: seedling\n",
    "    icon_pack: fas\n",
    "    name: Ways to Support\n",
    "    url: /support/\n",
    "\n",
    "---"
   ]
  },
  {
   "cell_type": "code",
   "execution_count": 1,
   "metadata": {
    "tags": [
     "hide"
    ]
   },
   "outputs": [],
   "source": [
    "from bs4 import BeautifulSoup\n",
    "import pandas as pd\n",
    "\n",
    "pd.set_option('display.max_colwidth', 300)\n",
    "pd.set_option('display.max_rows', 300)\n",
    "\n",
    "from collections import Counter\n",
    "import re"
   ]
  },
  {
   "cell_type": "markdown",
   "metadata": {},
   "source": [
    "<!-- Icon Image: Small -->\n",
    "<img src=\"featured.png\" width=\"100\"/> "
   ]
  },
  {
   "cell_type": "markdown",
   "metadata": {},
   "source": [
    "This is a little example of parsing Netflix subtitle data. Here we look at Dave Chappelle's comedy special *Equanimity* and the story that he uses to setup a punchline he alludes to at the start of the show.\n",
    "\n",
    "**Note About Getting Subtitles From Netflix**: I looked at [this GitHub repo](https://github.com/isaacbernat/netflix-to-srt) for a little, which helped me find the subtitle file, but parsing it wasn't working. So, I saved it off as an XML file and did it myself with python.\n",
    "\n",
    "1. Find episode to get subtitles\n",
    "2. Developer Tools > Network > file starting with `?o=`\n",
    "3. Save off as an `.xml` file"
   ]
  },
  {
   "cell_type": "code",
   "execution_count": 2,
   "metadata": {},
   "outputs": [],
   "source": [
    "def make_netflix_subtitle_df(netflix_xml_file):\n",
    "    '''\n",
    "        Formatting from XML file of Netflix subtitles into a dataframe\n",
    "    '''\n",
    "    \n",
    "    # open file\n",
    "    with open(netflix_xml_file, 'r') as f:\n",
    "        contents = f.read()\n",
    "    \n",
    "        # replace <br> tags with space, important to get a full string per timestamp\n",
    "        contents = contents.replace('<br/>', ' ')\n",
    "    \n",
    "        # beautiful soup\n",
    "        soup = BeautifulSoup(contents, 'html.parser')\n",
    "    \n",
    "    # grab p tags, loop thru and get tags/text from each\n",
    "    subtitles = soup.find_all('p')\n",
    "    df_dict = {}\n",
    "\n",
    "    for ind, timestamp in enumerate(subtitles):\n",
    "#         print(timestamp.attrs)\n",
    "#         print(timestamp.text)\n",
    "\n",
    "        df_dict[ind] = timestamp.attrs\n",
    "        df_dict[ind]['text'] = timestamp.text\n",
    "        \n",
    "    # dataframe\n",
    "    df = pd.DataFrame(df_dict.values())[['begin', 'end', 'text']]\n",
    "    \n",
    "    # format\n",
    "    df['begin'] = pd.to_numeric(df.begin.str.replace('t', ''))\n",
    "    df['end'] = pd.to_numeric(df.end.str.replace('t', ''))\n",
    "    \n",
    "    return df"
   ]
  },
  {
   "cell_type": "markdown",
   "metadata": {},
   "source": [
    "## Dave Chappelle Fishbowl Story\n",
    "- How many words before he wraps back around to the original punchline?\n",
    "- How long is that gap?"
   ]
  },
  {
   "cell_type": "code",
   "execution_count": 3,
   "metadata": {},
   "outputs": [],
   "source": [
    "df = make_netflix_subtitle_df('chappelle-equanimity.xml')"
   ]
  },
  {
   "cell_type": "code",
   "execution_count": 4,
   "metadata": {},
   "outputs": [
    {
     "data": {
      "text/html": [
       "<div>\n",
       "<style scoped>\n",
       "    .dataframe tbody tr th:only-of-type {\n",
       "        vertical-align: middle;\n",
       "    }\n",
       "\n",
       "    .dataframe tbody tr th {\n",
       "        vertical-align: top;\n",
       "    }\n",
       "\n",
       "    .dataframe thead th {\n",
       "        text-align: right;\n",
       "    }\n",
       "</style>\n",
       "<table border=\"1\" class=\"dataframe\">\n",
       "  <thead>\n",
       "    <tr style=\"text-align: right;\">\n",
       "      <th></th>\n",
       "      <th>begin</th>\n",
       "      <th>end</th>\n",
       "      <th>text</th>\n",
       "    </tr>\n",
       "  </thead>\n",
       "  <tbody>\n",
       "    <tr>\n",
       "      <th>0</th>\n",
       "      <td>63813750</td>\n",
       "      <td>72572500</td>\n",
       "      <td>[\"Killing Me Softly with His Song\" playing]</td>\n",
       "    </tr>\n",
       "    <tr>\n",
       "      <th>1</th>\n",
       "      <td>73406667</td>\n",
       "      <td>100934167</td>\n",
       "      <td>[woman vocalizes]</td>\n",
       "    </tr>\n",
       "    <tr>\n",
       "      <th>2</th>\n",
       "      <td>111778334</td>\n",
       "      <td>149732917</td>\n",
       "      <td>♪ I heard he sang a good song ♪</td>\n",
       "    </tr>\n",
       "    <tr>\n",
       "      <th>3</th>\n",
       "      <td>150567084</td>\n",
       "      <td>191024167</td>\n",
       "      <td>♪ I heard he had a style ♪ -[camera shutter clicks]</td>\n",
       "    </tr>\n",
       "    <tr>\n",
       "      <th>4</th>\n",
       "      <td>191858334</td>\n",
       "      <td>241074167</td>\n",
       "      <td>♪ And so I came to see him To listen for a while ♪</td>\n",
       "    </tr>\n",
       "  </tbody>\n",
       "</table>\n",
       "</div>"
      ],
      "text/plain": [
       "       begin        end                                                 text\n",
       "0   63813750   72572500          [\"Killing Me Softly with His Song\" playing]\n",
       "1   73406667  100934167                                    [woman vocalizes]\n",
       "2  111778334  149732917                      ♪ I heard he sang a good song ♪\n",
       "3  150567084  191024167  ♪ I heard he had a style ♪ -[camera shutter clicks]\n",
       "4  191858334  241074167   ♪ And so I came to see him To listen for a while ♪"
      ]
     },
     "execution_count": 4,
     "metadata": {},
     "output_type": "execute_result"
    }
   ],
   "source": [
    "df.head()"
   ]
  },
  {
   "cell_type": "code",
   "execution_count": 5,
   "metadata": {},
   "outputs": [],
   "source": [
    "interim_story = df.loc[57:146]"
   ]
  },
  {
   "cell_type": "code",
   "execution_count": 6,
   "metadata": {},
   "outputs": [
    {
     "data": {
      "text/html": [
       "<div>\n",
       "<style scoped>\n",
       "    .dataframe tbody tr th:only-of-type {\n",
       "        vertical-align: middle;\n",
       "    }\n",
       "\n",
       "    .dataframe tbody tr th {\n",
       "        vertical-align: top;\n",
       "    }\n",
       "\n",
       "    .dataframe thead th {\n",
       "        text-align: right;\n",
       "    }\n",
       "</style>\n",
       "<table border=\"1\" class=\"dataframe\">\n",
       "  <thead>\n",
       "    <tr style=\"text-align: right;\">\n",
       "      <th></th>\n",
       "      <th>begin</th>\n",
       "      <th>end</th>\n",
       "      <th>text</th>\n",
       "    </tr>\n",
       "  </thead>\n",
       "  <tbody>\n",
       "    <tr>\n",
       "      <th>57</th>\n",
       "      <td>2051215834</td>\n",
       "      <td>2064145417</td>\n",
       "      <td>You know what's weird?</td>\n",
       "    </tr>\n",
       "    <tr>\n",
       "      <th>58</th>\n",
       "      <td>2072487084</td>\n",
       "      <td>2090421667</td>\n",
       "      <td>I've always been this talented.</td>\n",
       "    </tr>\n",
       "    <tr>\n",
       "      <th>59</th>\n",
       "      <td>2105853750</td>\n",
       "      <td>2123788334</td>\n",
       "      <td>I can't remember a time when I wasn't.</td>\n",
       "    </tr>\n",
       "    <tr>\n",
       "      <th>60</th>\n",
       "      <td>2124622500</td>\n",
       "      <td>2159240417</td>\n",
       "      <td>You know, when I was growing up, I was probably about eight years old,</td>\n",
       "    </tr>\n",
       "    <tr>\n",
       "      <th>61</th>\n",
       "      <td>2160074584</td>\n",
       "      <td>2188436250</td>\n",
       "      <td>and at the time,  we were living in Silver Spring.</td>\n",
       "    </tr>\n",
       "  </tbody>\n",
       "</table>\n",
       "</div>"
      ],
      "text/plain": [
       "         begin         end  \\\n",
       "57  2051215834  2064145417   \n",
       "58  2072487084  2090421667   \n",
       "59  2105853750  2123788334   \n",
       "60  2124622500  2159240417   \n",
       "61  2160074584  2188436250   \n",
       "\n",
       "                                                                      text  \n",
       "57                                                  You know what's weird?  \n",
       "58                                         I've always been this talented.  \n",
       "59                                  I can't remember a time when I wasn't.  \n",
       "60  You know, when I was growing up, I was probably about eight years old,  \n",
       "61                      and at the time,  we were living in Silver Spring.  "
      ]
     },
     "execution_count": 6,
     "metadata": {},
     "output_type": "execute_result"
    }
   ],
   "source": [
    "interim_story.head()"
   ]
  },
  {
   "cell_type": "markdown",
   "metadata": {},
   "source": [
    "### How Many Words?"
   ]
  },
  {
   "cell_type": "code",
   "execution_count": 7,
   "metadata": {},
   "outputs": [],
   "source": [
    "story_text = interim_story.text.str.cat(sep = ' ')"
   ]
  },
  {
   "cell_type": "code",
   "execution_count": 8,
   "metadata": {},
   "outputs": [
    {
     "data": {
      "text/plain": [
       "'you know whats weird ive always been this talented i cant remember a time when i wasnt you know when i was growing up i was probably about eight years old and at the time we were living in silver spring yeah yes common misconception about me and dc a lot of people think im from the hood thats not true but i never bothered to correct anybody because i wanted the streets to embrace me as a matter of fact i kept it up as a ruse like sometimes ill hang out with rappers like nas and them and these motherfuckers start talking about the projects yo it was wild in the pjs yo and ill be like word nigga word but i dont know i have no idea my parents did just well enough so that i could grow up poor around white people to be honest whennas and them talk about the projects nigga i used to get jealous because it sounded fun everybody in the projects was poor and thats fair but if you were poor in silver spring nigga it felt like it was only happening to you nas does not know the pain of that first sleepover at a white friends house when you come back home on sunday and just look at your parents like yall need to step your game up everything at timmys house works remember the first time you saw that the cold winter and to be at a white friends house and see them motherfuckers in their living room without their coats on timmy was one of my first white friends like in my life man good dude too he moved to silver spring from utah of all places i guess his family was affiliated with that mormon church they got down there me and him used to hang out one day i was at his house just hanging out and timmy says dave why dont you stay for dinner tonight i said oh man id love to but i cant if im not home before dark my mother will kill me that was a lie my mother had several jobs i hadnt seen her in three or four days and the only reason i lied to timmy was because at that point in my life it was my experience that white dinner wasnt delicious id rather go home and fry some bologna or some shit like that but then old timmy threw me a curveball i wasnt expecting he said oh its too bad you cant stay dave cause mama made stove top stuffing i said what the fuck stove top hold on nigga let me make some phone calls real quick i had seen that commercial so many times i had dreamt of getting my hands on some of that stove top stuffing finally i met a motherfucker that actually had a box of stove top in the house i couldnt miss this opportunity so i pretended to call my mother then i came back and i said timmy timmy youre not gonna believe this great news mom said i can stay he said fantastic he said why dont you come with me and well help set the table and then we can say the blessing i had no interest in setting this motherfuckers table or saying these crazyass mormon prayers i just wanted the goddamn stuffing i told timmy you know what id love to help but let me go wash my hands first my plan was simple wash my hands slowly and by the time im done the table will be set the blessing will be said and all that there will be left to do is eat went to the bathroom i wash my hands very slowly i must have been in there for about ten minutes and suddenly one of his mothers came to the door she was like hi david right i said yes maam she said timmy tells me that youre planning on staying for dinner i said i hope thats not a problem maam she says no its no problem wed love to have you its just that we werent expecting company and im afraid theres not enoughstove top stuffing for everybody'"
      ]
     },
     "execution_count": 8,
     "metadata": {},
     "output_type": "execute_result"
    }
   ],
   "source": [
    "text = story_text\n",
    "\n",
    "text = text.lower()\n",
    "\n",
    "text = re.sub(\"[^\\w ]\", \"\", text)\n",
    "\n",
    "text"
   ]
  },
  {
   "cell_type": "code",
   "execution_count": 9,
   "metadata": {},
   "outputs": [],
   "source": [
    "words = text.split(' ')\n",
    "word_count = Counter(words)"
   ]
  },
  {
   "cell_type": "code",
   "execution_count": 10,
   "metadata": {},
   "outputs": [
    {
     "data": {
      "text/plain": [
       "712"
      ]
     },
     "execution_count": 10,
     "metadata": {},
     "output_type": "execute_result"
    }
   ],
   "source": [
    "len(list(word_count.elements()))"
   ]
  },
  {
   "cell_type": "markdown",
   "metadata": {},
   "source": [
    "### How Long of a Gap?"
   ]
  },
  {
   "cell_type": "code",
   "execution_count": 17,
   "metadata": {},
   "outputs": [
    {
     "data": {
      "text/html": [
       "<div>\n",
       "<style scoped>\n",
       "    .dataframe tbody tr th:only-of-type {\n",
       "        vertical-align: middle;\n",
       "    }\n",
       "\n",
       "    .dataframe tbody tr th {\n",
       "        vertical-align: top;\n",
       "    }\n",
       "\n",
       "    .dataframe thead th {\n",
       "        text-align: right;\n",
       "    }\n",
       "</style>\n",
       "<table border=\"1\" class=\"dataframe\">\n",
       "  <thead>\n",
       "    <tr style=\"text-align: right;\">\n",
       "      <th></th>\n",
       "      <th>begin</th>\n",
       "      <th>end</th>\n",
       "      <th>text</th>\n",
       "    </tr>\n",
       "  </thead>\n",
       "  <tbody>\n",
       "    <tr>\n",
       "      <th>57</th>\n",
       "      <td>2051215834</td>\n",
       "      <td>2064145417</td>\n",
       "      <td>You know what's weird?</td>\n",
       "    </tr>\n",
       "    <tr>\n",
       "      <th>58</th>\n",
       "      <td>2072487084</td>\n",
       "      <td>2090421667</td>\n",
       "      <td>I've always been this talented.</td>\n",
       "    </tr>\n",
       "    <tr>\n",
       "      <th>59</th>\n",
       "      <td>2105853750</td>\n",
       "      <td>2123788334</td>\n",
       "      <td>I can't remember a time when I wasn't.</td>\n",
       "    </tr>\n",
       "    <tr>\n",
       "      <th>60</th>\n",
       "      <td>2124622500</td>\n",
       "      <td>2159240417</td>\n",
       "      <td>You know, when I was growing up, I was probably about eight years old,</td>\n",
       "    </tr>\n",
       "    <tr>\n",
       "      <th>61</th>\n",
       "      <td>2160074584</td>\n",
       "      <td>2188436250</td>\n",
       "      <td>and at the time,  we were living in Silver Spring.</td>\n",
       "    </tr>\n",
       "  </tbody>\n",
       "</table>\n",
       "</div>"
      ],
      "text/plain": [
       "         begin         end  \\\n",
       "57  2051215834  2064145417   \n",
       "58  2072487084  2090421667   \n",
       "59  2105853750  2123788334   \n",
       "60  2124622500  2159240417   \n",
       "61  2160074584  2188436250   \n",
       "\n",
       "                                                                      text  \n",
       "57                                                  You know what's weird?  \n",
       "58                                         I've always been this talented.  \n",
       "59                                  I can't remember a time when I wasn't.  \n",
       "60  You know, when I was growing up, I was probably about eight years old,  \n",
       "61                      and at the time,  we were living in Silver Spring.  "
      ]
     },
     "execution_count": 17,
     "metadata": {},
     "output_type": "execute_result"
    }
   ],
   "source": [
    "interim_story.head()"
   ]
  },
  {
   "cell_type": "code",
   "execution_count": 12,
   "metadata": {},
   "outputs": [],
   "source": [
    "start = interim_story.iat[0, 0]\n",
    "end = interim_story.iat[-1, 1]"
   ]
  },
  {
   "cell_type": "code",
   "execution_count": 13,
   "metadata": {},
   "outputs": [],
   "source": [
    "duration = end - start"
   ]
  },
  {
   "cell_type": "markdown",
   "metadata": {},
   "source": [
    "The duration is provided as 10^7 seconds."
   ]
  },
  {
   "cell_type": "code",
   "execution_count": 14,
   "metadata": {},
   "outputs": [
    {
     "data": {
      "text/plain": [
       "5.243432638333333"
      ]
     },
     "execution_count": 14,
     "metadata": {},
     "output_type": "execute_result"
    }
   ],
   "source": [
    "minutes_full = duration/(10 ** 7)/60\n",
    "minutes_full"
   ]
  },
  {
   "cell_type": "code",
   "execution_count": 15,
   "metadata": {},
   "outputs": [],
   "source": [
    "minutes = int(minutes_full)\n",
    "seconds_frac = minutes_full % 1\n",
    "seconds = int(seconds_frac * 60)"
   ]
  },
  {
   "cell_type": "code",
   "execution_count": 16,
   "metadata": {},
   "outputs": [
    {
     "name": "stdout",
     "output_type": "stream",
     "text": [
      "Story lasts for 5 minutes, 14 seconds\n"
     ]
    }
   ],
   "source": [
    "print(f\"Story lasts for {minutes} minutes, {seconds} seconds\")"
   ]
  },
  {
   "cell_type": "markdown",
   "metadata": {},
   "source": [
    "## Conclusion\n",
    "\n",
    "- Example of parsing Netflix subtitles. Data includes timestamp for a given subtitle and the associated text.\n",
    "\n",
    "### What's Useful for Later:\n",
    "- Function for parsing Netflix `.xml` subtitle files\n",
    "\n",
    "### Going Further\n",
    "- I could see attempting to recreate work I have done previously on the use of [swear words in comedy specials](https://zachbogart.com/project/comedy/)\n",
    "\n",
    "Till next time!\n",
    "\n",
    "![](https://media.giphy.com/media/42D3CxaINsAFemFuId/giphy.gif)"
   ]
  },
  {
   "cell_type": "markdown",
   "metadata": {},
   "source": [
    "#### Image Credit\n",
    "[comedy mask](https://thenounproject.com/search/?creator=4129988&q=comedy&i=3169849) by Zach Bogart from [the Noun Project](https://thenounproject.com/) "
   ]
  }
 ],
 "metadata": {
  "celltoolbar": "Tags",
  "kernelspec": {
   "display_name": "Python 3",
   "language": "python",
   "name": "python3"
  },
  "language_info": {
   "codemirror_mode": {
    "name": "ipython",
    "version": 3
   },
   "file_extension": ".py",
   "mimetype": "text/x-python",
   "name": "python",
   "nbconvert_exporter": "python",
   "pygments_lexer": "ipython3",
   "version": "3.7.2"
  }
 },
 "nbformat": 4,
 "nbformat_minor": 2
}
